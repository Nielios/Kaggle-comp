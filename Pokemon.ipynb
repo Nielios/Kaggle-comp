{
  "cells": [
    {
      "metadata": {
        "_uuid": "8f2839f25d086af736a60e9eeb907d3b93b6e0e5",
        "_cell_guid": "b1076dfc-b9ad-4769-8c92-a6c4dae69d19",
        "trusted": true
      },
      "cell_type": "code",
      "source": "# This Python 3 environment comes with many helpful analytics libraries installed\n# It is defined by the kaggle/python docker image: https://github.com/kaggle/docker-python\n# For example, here's several helpful packages to load in \n\nimport numpy as np # linear algebra\nimport pandas as pd # data processing, CSV file I/O (e.g. pd.read_csv)\n\n# Input data files are available in the \"../input/\" directory.\n# For example, running this (by clicking run or pressing Shift+Enter) will list the files in the input directory\n\nimport os\nprint(os.listdir(\"../input\"))\n\n# Any results you write to the current directory are saved as output.",
      "execution_count": null,
      "outputs": []
    },
    {
      "metadata": {
        "_cell_guid": "79c7e3d0-c299-4dcb-8224-4455121ee9b0",
        "_uuid": "d629ff2d2480ee46fbb7e2d37f6b5fab8052498a",
        "trusted": true
      },
      "cell_type": "code",
      "source": "import pandas as pd\nimport numpy as np\nimport matplotlib.pyplot as plt\nimport seaborn as sns\nfrom datetime import datetime\nfrom sklearn.model_selection import train_test_split\nfrom sklearn.linear_model import LogisticRegression\nfrom sklearn.ensemble import RandomForestClassifier\nfrom sklearn.model_selection import GridSearchCV\nfrom sklearn.preprocessing import StandardScaler, OneHotEncoder, scale, FunctionTransformer, LabelEncoder, LabelBinarizer\nfrom sklearn.pipeline import Pipeline, FeatureUnion, make_pipeline\nfrom sklearn.metrics import log_loss, accuracy_score\nfrom sklearn.svm import SVC\nfrom sklearn.metrics import classification_report\nfrom sklearn.metrics import confusion_matrix\nfrom sklearn.base import BaseEstimator, TransformerMixin\nimport xgboost as xgb\n\nplt.style.use('ggplot')",
      "execution_count": null,
      "outputs": []
    },
    {
      "metadata": {
        "trusted": true,
        "_uuid": "5904aa70f99822295757aba5865daa1be0217649"
      },
      "cell_type": "code",
      "source": "\npokemon = pd.read_csv('../input/pokemon.csv')\ncombats = pd.read_csv('../input/combats.csv')\n\n\ntest = pd.read_csv('../input/tests.csv')",
      "execution_count": null,
      "outputs": []
    },
    {
      "metadata": {
        "trusted": true,
        "_uuid": "3b3047bb7e4378b8d05acd4271b819476d8b863c"
      },
      "cell_type": "code",
      "source": "pokemon.describe()",
      "execution_count": null,
      "outputs": []
    },
    {
      "metadata": {
        "trusted": true,
        "_uuid": "16655a640711d3bfb9542877935c6a36acba84e9"
      },
      "cell_type": "code",
      "source": "pokemon_new = pokemon.dropna(subset = ['Name'])\npokemon_new.drop(['#'], axis = 1, inplace = True)\npokemon_new.info()",
      "execution_count": null,
      "outputs": []
    },
    {
      "metadata": {
        "trusted": true,
        "_uuid": "0c74ce9ca8b3dff242c04c7350cd32194660796e"
      },
      "cell_type": "code",
      "source": "combats_namen = combats.replace(pokemon.Name)\ncombats_namen = combats_namen.dropna()\ncombats_namen.info()",
      "execution_count": null,
      "outputs": []
    },
    {
      "metadata": {
        "trusted": true,
        "_uuid": "859f35a1aecd12cd76148f266f7e81eab36eca92"
      },
      "cell_type": "code",
      "source": "combats_namen.Winner[combats_namen.Winner == combats_namen.First_pokemon] = 0\ncombats_namen.Winner[combats_namen.Winner == combats_namen.Second_pokemon] = 1\ncombats_namen.head()",
      "execution_count": null,
      "outputs": []
    },
    {
      "metadata": {
        "trusted": true,
        "_uuid": "d628ea1d4acf6cc6878e7976d92fe57e4bb6c08c"
      },
      "cell_type": "code",
      "source": "\n#combats_first = pd.concat([combats_namen, pokemon_new.rename(columns = {'Name': 'First_pokemon'})], axis = 1, ignore_index = False, sort = False)\ncombats_first = pd.merge(combats_namen, pokemon_new, how = 'inner', left_on = ['First_pokemon'], right_on = ['Name'])\n\n\n\ncombats_second = pd.merge(combats_namen, pokemon_new, how = 'inner', left_on = ['Second_pokemon'], right_on = ['Name'])\n\n\n\n#combats_final = pd.merge(combats_first, combats_second, how = 'inner', left_on = ['First_pokemon', 'Second_pokemon', 'Winner'], \n #                    right_on = ['First_pokemon', 'Second_pokemon', 'Winner'] )\n\ncombats_final = pd.merge(combats_first, combats_second, how = 'inner', left_index = True, right_index = True )\n\ncombats_final.info()",
      "execution_count": null,
      "outputs": []
    },
    {
      "metadata": {
        "trusted": true,
        "_uuid": "3d70795a7a38d1621b036beba2b66f73330e9cdb"
      },
      "cell_type": "code",
      "source": "combats_final['Diff_HP'] = combats_final['HP_x'] - combats_final['HP_y']\ncombats_final['Diff_Attack'] = combats_final['Attack_x'] - combats_final['Attack_y']\ncombats_final['Diff_Defense'] = combats_final['Defense_x'] - combats_final['Defense_y']\ncombats_final['Diff_Sp_Attack'] = combats_final['Sp. Atk_x'] - combats_final['Sp. Atk_y']\ncombats_final['Diff_Sp_Defense'] = combats_final['Sp. Def_x'] - combats_final['Sp. Def_y']\ncombats_final['Diff_Speed'] = combats_final['Speed_x'] - combats_final['Speed_y']\n\n                                        \n\ncombats_final.rename(columns = {'First_pokemon_x': 'First_pokemon', 'Second_pokemon_x':'Second_pokemon', 'Winner_x': 'Winner', 'Type 1_x':'Type_1_First', \n                               'Type 2_x': 'Type_2_First', 'Type 1_y':'Type_1_Second','Type 2_y': 'Type_2_Second', 'Generation_x':'Generation_First', \n                                'Generation_y':'Generation_Second', 'Legendary_x': 'Legendary_First', 'Legendary_y':'Legendary_Second'}, inplace = True)\n\ncols_to_keep = ['Diff_HP', 'Diff_Attack', 'Diff_Defense', 'Diff_Sp_Attack','Diff_Sp_Defense', 'Diff_Speed', 'First_pokemon' ,'Second_pokemon',\n               'Winner',  'Generation_First', 'Generation_Second', 'Legendary_First', 'Legendary_Second']\n\ncombats_final = combats_final[cols_to_keep]\n\n\n\ncombats_final.info()",
      "execution_count": null,
      "outputs": []
    },
    {
      "metadata": {
        "trusted": true,
        "_uuid": "2b4b72ae14585efa2aebd7bd30317a0c05b2a537"
      },
      "cell_type": "code",
      "source": "combats_final.fillna('Unknown', inplace = True)\n\ncombats_final.info()",
      "execution_count": null,
      "outputs": []
    },
    {
      "metadata": {
        "trusted": true,
        "_uuid": "dd5ddf9f56b06a222a561c80236eb6b1f6c7d965"
      },
      "cell_type": "code",
      "source": "combats_final.drop(['Legendary_First', 'Legendary_Second', 'First_pokemon', 'Second_pokemon'], axis = 1,  inplace = True)\n\ncombats_final['Generation_First'] = str(combats_final['Generation_First'])\ncombats_final['Generation_Second'] = str(combats_final['Generation_Second'])\ncombats_final.info()",
      "execution_count": null,
      "outputs": []
    },
    {
      "metadata": {
        "trusted": true,
        "_uuid": "818ce574728c506e76518fc8c251d3e09a5c4f05"
      },
      "cell_type": "code",
      "source": "#scale data\nscaler = StandardScaler()\n\ncols_to_scale = list(combats_final.select_dtypes(include=[np.number]).columns.values)\ncombats_final[['Diff_HP','Diff_Attack','Diff_Defense','Diff_Sp_Attack','Diff_Sp_Defense','Diff_Speed']]= scaler.fit_transform(combats_final[['Diff_HP','Diff_Attack','Diff_Defense','Diff_Sp_Attack','Diff_Sp_Defense','Diff_Speed']])",
      "execution_count": null,
      "outputs": []
    },
    {
      "metadata": {
        "trusted": true,
        "_uuid": "ef8dff94621be7f36489ad58bda4323f9e77feea"
      },
      "cell_type": "code",
      "source": "#categorical naar dummies\nto_encode = ['Generation_First','Generation_Second']\n\ncombats_final = pd.concat([pd.get_dummies(combats_final[to_encode], drop_first = True), combats_final[['Diff_HP','Diff_Attack','Diff_Defense','Diff_Sp_Attack','Diff_Sp_Defense','Diff_Speed', 'Winner']]], axis = 1)\n\nto_encode = combats_final.select_dtypes(include=[object]).columns\ncombats_final = pd.get_dummies(combats_final, columns=to_encode, drop_first=True)\n\n\ncombats_final.info()",
      "execution_count": null,
      "outputs": []
    },
    {
      "metadata": {
        "trusted": true,
        "_uuid": "43b61fa945d7b55cc8f64674701a603eb4ff9ce9"
      },
      "cell_type": "code",
      "source": "\ny = combats_final['Winner']\nX = combats_final.drop('Winner', axis = 1)\n\nX_train, X_test, y_train, y_test = train_test_split(X,y,  \n                                                    random_state=2018, stratify= y)",
      "execution_count": null,
      "outputs": []
    },
    {
      "metadata": {
        "trusted": true,
        "_uuid": "bb72ec627ba859f604a667623515e866533fa429"
      },
      "cell_type": "markdown",
      "source": "# hyperparameter grid\nparam_grid = {\n    'n_estimators': [500,1000],\n    'max_features': ['auto', 'sqrt']\n}\n#RandomForest classifier\nrfc = RandomForestClassifier(random_state = 2018)\n#GridSearchCV\nrf_cv = GridSearchCV(rfc, param_grid = param_grid, cv=10, n_jobs = -1)\nrf_cv.fit(X_train, y_train)\n\n# Print the optimal parameters and best score\nprint(\"Tuned Randomforest Parameter: {}\".format(rf_cv.best_params_))\nprint(\"Tuned Randomforest Accuracy: {}\".format(rf_cv.best_score_))"
    },
    {
      "metadata": {
        "trusted": true,
        "_uuid": "621cd84cb442a1a648d62bf5c1c997d8e8b301ee"
      },
      "cell_type": "markdown",
      "source": "y_pred_rf = rf_cv.predict(X_test)\nprint(confusion_matrix(y_test, y_pred_rf))"
    },
    {
      "metadata": {
        "trusted": true,
        "_uuid": "b3aac07c5ea24849d9a5c6bdd9fa485af97775ee"
      },
      "cell_type": "code",
      "source": "#xgb_params = {'max_depth': [5, 9], \n           #   'learning_rate': [0.001, 0.01, 0.05],\n           #  'colsample_bytree' : [0.1, 0.5, 1]}\n\nxgb_params = {'colsample_bytree': [0.1, 0.5, 1], 'learning_rate': [0.05], 'max_depth': [9]}\n\n\nmodel_xgb = xgb.XGBClassifier(seed=1, n_estimators=1000)\ngrid = GridSearchCV(model_xgb, xgb_params, cv=5 ,scoring='accuracy', verbose = 1, n_jobs= -1)\n\ngrid.fit(X_train,y_train)\n\n\n\nprint(\"Best score: %.1f%%\" % (grid.best_score_*100))\nprint(\"Best parameter set: %s\" % (grid.best_params_))\n\n",
      "execution_count": null,
      "outputs": []
    },
    {
      "metadata": {
        "trusted": true,
        "_uuid": "d257b2ad36e5d69825a17f76c624afc109b7e78e"
      },
      "cell_type": "code",
      "source": "y_pred = grid.predict(X_test)\n\naccuracy = accuracy_score(y_test, y_pred)\nprint(\"Accuracy: %.1f%%\" % (accuracy * 100.0))",
      "execution_count": null,
      "outputs": []
    },
    {
      "metadata": {
        "trusted": true,
        "collapsed": true,
        "_uuid": "ca06dc081daee47e070da87ebc65c0a41afce8c5"
      },
      "cell_type": "code",
      "source": "#xgb_params = {'max_depth': [3, 6, 9], \n#                              'learning_rate': [0.05]}\n\n\n#model_xgb = xgb.XGBClassifier(seed=1, n_estimators=1000)\n#grid = GridSearchCV(model_xgb, xgb_params, cv=5 ,scoring='accuracy', verbose = 1, n_jobs= -1)",
      "execution_count": null,
      "outputs": []
    },
    {
      "metadata": {
        "trusted": true,
        "_uuid": "8de85ef0ef3526bd0e16853b61b7ec2b4069a0a2",
        "collapsed": true
      },
      "cell_type": "code",
      "source": "#num_cols = list(combats_final.select_dtypes(include=[np.number]).columns.values)\n#object_cols = list(combats_final.select_dtypes(include=[np.object]).columns.values)\n\n#get_object_data = FunctionTransformer(lambda x: x[['First_pokemon','Second_pokemon','Type_1_First','Type_2_First','Type_1_Second','Type_2_Second', \n#                                                   'Generation_First', 'Generation_Second']])\n\n#get_numeric_data = FunctionTransformer(lambda x: x[['Diff_HP','Diff_Attack','Diff_Defense','Diff_Sp_Attack','Diff_Sp_Defense',\n#                                                    'Diff_Speed']])",
      "execution_count": null,
      "outputs": []
    },
    {
      "metadata": {
        "trusted": true,
        "_uuid": "33df839b893cfa11c73a7d48422b2fbb0e2f84fe"
      },
      "cell_type": "code",
      "source": "test.describe()",
      "execution_count": null,
      "outputs": []
    },
    {
      "metadata": {
        "trusted": true,
        "_uuid": "76a226fed7703827cefb0ea19bee36e9af527b1d"
      },
      "cell_type": "code",
      "source": "test_namen = test.replace(pokemon.Name)\ntest_namen = test_namen.dropna()\n\n#test_first = pd.concat([test_namen, pokemon_new.rename(columns = {'Name': 'First_pokemon'})], axis = 1, ignore_index = False, sort = False)\ntest_first = pd.merge(test_namen, pokemon_new, how = 'inner', left_on = ['First_pokemon'], right_on = ['Name'])\n\n\n\ntest_second = pd.merge(test_namen, pokemon_new, how = 'inner', left_on = ['Second_pokemon'], right_on = ['Name'])\n\n\n\ntest_final = pd.merge(test_first, test_second, how = 'inner', left_index = True, right_index = True )\n\ntest_final['Diff_HP'] = test_final['HP_x'] - test_final['HP_y']\ntest_final['Diff_Attack'] = test_final['Attack_x'] - test_final['Attack_y']\ntest_final['Diff_Defense'] = test_final['Defense_x'] - test_final['Defense_y']\ntest_final['Diff_Sp_Attack'] = test_final['Sp. Atk_x'] - test_final['Sp. Atk_y']\ntest_final['Diff_Sp_Defense'] = test_final['Sp. Def_x'] - test_final['Sp. Def_y']\ntest_final['Diff_Speed'] = test_final['Speed_x'] - test_final['Speed_y']\n\n                                        \n\ntest_final.rename(columns = {'First_pokemon_x': 'First_pokemon', 'Second_pokemon_x':'Second_pokemon', 'Type 1_x':'Type_1_First', \n                               'Type 2_x': 'Type_2_First', 'Type 1_y':'Type_1_Second','Type 2_y': 'Type_2_Second', 'Generation_x':'Generation_First', \n                                'Generation_y':'Generation_Second', 'Legendary_x': 'Legendary_First', 'Legendary_y':'Legendary_Second'}, inplace = True)\n\ncols_to_keep = ['Diff_HP', 'Diff_Attack', 'Diff_Defense', 'Diff_Sp_Attack','Diff_Sp_Defense', 'Diff_Speed', 'First_pokemon' ,'Second_pokemon',\n                 'Generation_First', 'Generation_Second', 'Legendary_First', 'Legendary_Second']\n\ntest_final = test_final[cols_to_keep]\n\ntest_final.fillna('Unknown', inplace = True)\n\n\ntest_final.drop(['Legendary_First', 'Legendary_Second', 'First_pokemon', 'Second_pokemon'], axis = 1,  inplace = True)\n\ntest_final['Generation_First'] = str(test_final['Generation_First'])\ntest_final['Generation_Second'] = str(test_final['Generation_Second'])\n\ncols_to_scale = list(test_final.select_dtypes(include=[np.number]).columns.values)\ntest_final[['Diff_HP','Diff_Attack','Diff_Defense','Diff_Sp_Attack','Diff_Sp_Defense','Diff_Speed']]= scaler.fit_transform(test_final[['Diff_HP','Diff_Attack','Diff_Defense','Diff_Sp_Attack','Diff_Sp_Defense','Diff_Speed']])\n\n#categorical naar dummies\nto_encode = ['Generation_First','Generation_Second']\n\ntest_final = pd.concat([pd.get_dummies(test_final[to_encode], drop_first = True), test_final[['Diff_HP','Diff_Attack','Diff_Defense','Diff_Sp_Attack','Diff_Sp_Defense','Diff_Speed']]], axis = 1)\n\n",
      "execution_count": null,
      "outputs": []
    },
    {
      "metadata": {
        "trusted": true,
        "_uuid": "18a50f3210da947688db78cde8612a9656c077bc"
      },
      "cell_type": "code",
      "source": "test_final.info()\n",
      "execution_count": null,
      "outputs": []
    },
    {
      "metadata": {
        "trusted": true,
        "_uuid": "35d0f7a25387f55a657e6c6a57c2b834c0453959"
      },
      "cell_type": "code",
      "source": "test_final['Prediction'] = grid.predict(test_final)",
      "execution_count": null,
      "outputs": []
    },
    {
      "metadata": {
        "trusted": true,
        "_uuid": "d06493eb43bbecd943af09c9b0a08a679df1a8d3"
      },
      "cell_type": "code",
      "source": "test_final.head()\n\n",
      "execution_count": null,
      "outputs": []
    },
    {
      "metadata": {
        "trusted": true,
        "_uuid": "6f4db29b0d08319123a6211cf627161073086e33"
      },
      "cell_type": "markdown",
      "source": "class Columns(BaseEstimator, TransformerMixin):\n    def __init__(self, names=None):\n        self.names = names\n\n    def fit(self, X, y=None, **fit_params):\n        return self\n\n    def transform(self, X):\n        return X[self.names]\n\nnumeric = ['First_pokemon','Second_pokemon','Type_1_First','Type_2_First','Type_1_Second','Type_2_Second', \n                                                   'Generation_First', 'Generation_Second']\ncategorical = ['Diff_HP','Diff_Attack','Diff_Defense','Diff_Sp_Attack','Diff_Sp_Defense',\n                                                    'Diff_Speed']\n# hyperparameter grid\nparam_grid = {\n    'n_estimators': [500,1000],\n    'max_features': ['auto', 'sqrt']\n}\n\n\npipe = Pipeline([\n    (\"features\", FeatureUnion([\n        ('numeric', make_pipeline(Columns(names=numeric),StandardScaler())),\n        ('categorical', make_pipeline(Columns(names=categorical),LabelBinarizer()))\n    ])),\n    ('model', GridSearchCV(RandomForestClassifier(random_state = 2018), param_grid = param_grid, cv=10, n_jobs = -1))\n])"
    },
    {
      "metadata": {
        "trusted": true,
        "_uuid": "d0e53f36cf7ff36cffee4e9cc8f7fdaa60d2c7e5"
      },
      "cell_type": "markdown",
      "source": "process_and_join_features = FeatureUnion(\n            transformer_list = [\n                ('numeric_features', Pipeline([\n                    ('selector', get_numeric_data),\n                    ('scaler', StandardScaler())\n                ])),\n                ('object_features', Pipeline([\n                    ('selector', get_object_data),\n                    ('encoder', LabelBinarizer())\n                ]))\n             ]\n        )\n\n"
    },
    {
      "metadata": {
        "trusted": true,
        "_uuid": "936779474cf3b06050d88328a0ec160f54ce62a1"
      },
      "cell_type": "markdown",
      "source": "# Instantiate nested pipeline: pl\npl = Pipeline([\n        ('union', process_and_join_features),\n        ('clf', LogisticRegression())\n    ])\n\n\n# Fit pl to the training data\npipe.fit_transform(X_train, y_train)\n\n# Compute and print accuracy\naccuracy = pipe.score(X_test, y_test)\nprint(\"\\nAccuracy on sample data - all data: \", accuracy)"
    },
    {
      "metadata": {
        "trusted": true,
        "_uuid": "a949cdb634243558d882e7d361a4e461f534b5cd",
        "collapsed": true
      },
      "cell_type": "code",
      "source": "",
      "execution_count": null,
      "outputs": []
    },
    {
      "metadata": {
        "trusted": true,
        "_uuid": "cca3a7913b1d5c41f1d719f5099a5b5e882f6359",
        "collapsed": true
      },
      "cell_type": "code",
      "source": "",
      "execution_count": null,
      "outputs": []
    }
  ],
  "metadata": {
    "kernelspec": {
      "display_name": "Python 3",
      "language": "python",
      "name": "python3"
    },
    "language_info": {
      "name": "python",
      "version": "3.6.6",
      "mimetype": "text/x-python",
      "codemirror_mode": {
        "name": "ipython",
        "version": 3
      },
      "pygments_lexer": "ipython3",
      "nbconvert_exporter": "python",
      "file_extension": ".py"
    }
  },
  "nbformat": 4,
  "nbformat_minor": 1
}
