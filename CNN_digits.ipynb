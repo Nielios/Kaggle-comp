{
  "cells": [
    {
      "metadata": {
        "_uuid": "8f2839f25d086af736a60e9eeb907d3b93b6e0e5",
        "_cell_guid": "b1076dfc-b9ad-4769-8c92-a6c4dae69d19",
        "trusted": true
      },
      "cell_type": "code",
      "source": "# This Python 3 environment comes with many helpful analytics libraries installed\n# It is defined by the kaggle/python docker image: https://github.com/kaggle/docker-python\n# For example, here's several helpful packages to load in \n\nimport numpy as np # linear algebra\nimport pandas as pd # data processing, CSV file I/O (e.g. pd.read_csv)\n\n# Input data files are available in the \"../input/\" directory.\n# For example, running this (by clicking run or pressing Shift+Enter) will list the files in the input directory\n\nimport os\nprint(os.listdir(\"../input\"))\n\n# Any results you write to the current directory are saved as output.",
      "execution_count": null,
      "outputs": []
    },
    {
      "metadata": {
        "_cell_guid": "79c7e3d0-c299-4dcb-8224-4455121ee9b0",
        "_uuid": "d629ff2d2480ee46fbb7e2d37f6b5fab8052498a",
        "trusted": true
      },
      "cell_type": "code",
      "source": "import pandas as pd\nimport numpy as np\nimport matplotlib.pyplot as plt\nimport matplotlib.image as mpimg\nimport seaborn as sns\n%matplotlib inline\n\nnp.random.seed(2)\n\nfrom sklearn.preprocessing import LabelEncoder\nfrom sklearn.model_selection import train_test_split\nfrom sklearn.metrics import confusion_matrix\nimport itertools\n\nfrom keras.utils.np_utils import to_categorical # convert to one-hot-encoding\nfrom keras.models import Sequential\nfrom keras.layers import Dense, Dropout, Flatten, Conv2D, MaxPool2D\nfrom keras.optimizers import RMSprop\nfrom keras.preprocessing.image import ImageDataGenerator\nfrom keras.callbacks import ReduceLROnPlateau\n\n\nsns.set(style='white', context='notebook', palette='deep')",
      "execution_count": null,
      "outputs": []
    },
    {
      "metadata": {
        "trusted": true,
        "_uuid": "548f1ff19f9bcb4b61a92048d81bd4f51775da2b"
      },
      "cell_type": "code",
      "source": "# Load the data\ntrain = pd.read_csv(\"../input/train.csv\")\ntest = pd.read_csv(\"../input/test.csv\")",
      "execution_count": null,
      "outputs": []
    },
    {
      "metadata": {
        "trusted": true,
        "_uuid": "ee224c4fa1fc05d3653fdec11a77c61d6241d8e1"
      },
      "cell_type": "code",
      "source": "Y_train = train[\"label\"]\n\n# Drop 'label' column\nX_train = train.drop(labels = [\"label\"],axis = 1) \n\n# free some space\ndel train \n\ng = sns.countplot(Y_train)",
      "execution_count": null,
      "outputs": []
    },
    {
      "metadata": {
        "trusted": true,
        "_uuid": "58f3ecc4024724326573162b7ea4fa98a835c905"
      },
      "cell_type": "code",
      "source": "#test for null\nX_train.isnull().any().sum()",
      "execution_count": null,
      "outputs": []
    },
    {
      "metadata": {
        "trusted": true,
        "_uuid": "bd9abc37fb07646f8ff3bef5dd94187c1e342e7c"
      },
      "cell_type": "code",
      "source": "#test for null\ntest.isnull().any().sum()",
      "execution_count": null,
      "outputs": []
    },
    {
      "metadata": {
        "trusted": true,
        "_uuid": "1178c94b57a5b517d0d3db726dca1ec07204e5d6"
      },
      "cell_type": "code",
      "source": "#normalize data (grey-scale)\nX_train = X_train / 255.0\n\ntest = test / 255.0",
      "execution_count": null,
      "outputs": []
    },
    {
      "metadata": {
        "trusted": true,
        "_uuid": "2d8af33927ec4eafed5c647d8d3d9c722377ebe9"
      },
      "cell_type": "code",
      "source": "#reshape\nX_train = X_train.values.reshape(-1, 28,28,1)\n\ntest = test.values.reshape(-1, 28,28,1)\n\nprint(X_train.shape)\nprint(test.shape)",
      "execution_count": null,
      "outputs": []
    },
    {
      "metadata": {
        "trusted": true,
        "_uuid": "a01798bb86fdbd7cbd36016eef6e52f6891818e2"
      },
      "cell_type": "code",
      "source": "plt.imshow(X_train[0][:,:,0])",
      "execution_count": null,
      "outputs": []
    },
    {
      "metadata": {
        "trusted": true,
        "_uuid": "4f3a232412b67f3401c33c6ea6ac9a7f5115705e"
      },
      "cell_type": "code",
      "source": "#Label encoder\nY_train = to_categorical(Y_train, num_classes = 10)",
      "execution_count": null,
      "outputs": []
    },
    {
      "metadata": {
        "trusted": true,
        "_uuid": "56b65980eb7b5d0ed6ce06c6e1b74339808896a4"
      },
      "cell_type": "code",
      "source": "#Train/test split\nX_train, X_val, y_train, y_val = train_test_split(X_train, Y_train, test_size = 0.4, random_state = 2018)\n",
      "execution_count": null,
      "outputs": []
    },
    {
      "metadata": {
        "trusted": true,
        "_uuid": "74858f9e450cadccaaa5b7da77a120af3ca7a835"
      },
      "cell_type": "code",
      "source": "#Set up model\n\nmodel = Sequential()\n\n#Add layers\nmodel.add(Conv2D(10, kernel_size = 2, activation = 'relu', input_shape = (28,28,1)))\n\nmodel.add(Conv2D(10, kernel_size = 2, activation = 'relu'))\n\n#Flatten\nmodel.add(Flatten())\n\n#Add output layer\nmodel.add(Dense(10, activation = 'softmax'))\n\n\n",
      "execution_count": null,
      "outputs": []
    },
    {
      "metadata": {
        "trusted": true,
        "_uuid": "cab8348dcfb70b646c0d6168c64b7c9b60197182"
      },
      "cell_type": "code",
      "source": "#Compile\nmodel.compile(optimizer='adam', \n              loss='categorical_crossentropy', \n              metrics=['accuracy'])\n\n#fitting\ntraining = model.fit(X_train, y_train, validation_split = 0.2, epochs = 3)",
      "execution_count": null,
      "outputs": []
    },
    {
      "metadata": {
        "trusted": true,
        "_uuid": "56ab9c655a7a1c2c1dd8e2e1cbdbdaa4070326a9"
      },
      "cell_type": "code",
      "source": "#plot learning curves\n# Extract the history from the training object\nhistory = training.history\n\n# Plot the training loss \nplt.plot(history['loss'])\n# Plot the validation loss\nplt.plot(history['val_loss'])\n\n# Show the figure\nplt.show()\n",
      "execution_count": null,
      "outputs": []
    },
    {
      "metadata": {
        "trusted": true,
        "_uuid": "717115d9a5f0043764ddc04dce5466b6ace2d957"
      },
      "cell_type": "code",
      "source": "#evaluate\n\nmodel.evaluate(X_val, y_val)",
      "execution_count": null,
      "outputs": []
    },
    {
      "metadata": {
        "trusted": true,
        "_uuid": "ea2d6eed1b2636e2358e1c9a9b3245cc761b844a"
      },
      "cell_type": "code",
      "source": "#Predict\nprediction = model.predict(test)\n\nprediction = np.argmax(prediction, axis = 1)\n\nprediction = pd.Series(prediction, name = \"Label\")",
      "execution_count": null,
      "outputs": []
    },
    {
      "metadata": {
        "trusted": true,
        "_uuid": "51e777d7255cd2ea3f6a776012d6fe26aa4fe5d0"
      },
      "cell_type": "code",
      "source": "submission = pd.concat([pd.Series(range(1,28001),name = \"ImageId\"),prediction],axis = 1)\n\nsubmission.to_csv(\"cnn_mnist_datagen.csv\",index=False)",
      "execution_count": null,
      "outputs": []
    }
  ],
  "metadata": {
    "kernelspec": {
      "display_name": "Python 3",
      "language": "python",
      "name": "python3"
    },
    "language_info": {
      "name": "python",
      "version": "3.6.6",
      "mimetype": "text/x-python",
      "codemirror_mode": {
        "name": "ipython",
        "version": 3
      },
      "pygments_lexer": "ipython3",
      "nbconvert_exporter": "python",
      "file_extension": ".py"
    }
  },
  "nbformat": 4,
  "nbformat_minor": 1
}
