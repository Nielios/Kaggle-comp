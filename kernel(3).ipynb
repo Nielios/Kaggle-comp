{
  "cells": [
    {
      "metadata": {
        "_uuid": "8f2839f25d086af736a60e9eeb907d3b93b6e0e5",
        "_cell_guid": "b1076dfc-b9ad-4769-8c92-a6c4dae69d19",
        "trusted": true
      },
      "cell_type": "code",
      "source": "# This Python 3 environment comes with many helpful analytics libraries installed\n# It is defined by the kaggle/python docker image: https://github.com/kaggle/docker-python\n# For example, here's several helpful packages to load in \n\nimport numpy as np # linear algebra\nimport pandas as pd # data processing, CSV file I/O (e.g. pd.read_csv)\n\n# Input data files are available in the \"../input/\" directory.\n# For example, running this (by clicking run or pressing Shift+Enter) will list the files in the input directory\n\nimport os\nprint(os.listdir(\"../input\"))\n\n#Source\n#Felix Gräßer, Surya Kallumadi, Hagen Malberg, and Sebastian Zaunseder. 2018. Aspect-Based Sentiment Analysis of Drug Reviews Applying Cross-Domain and Cross-Data Learning. In Proceedings of the 2018 International Conference on Digital Health (DH '18). ACM, New York, NY, USA, 121-125. DOI: [Web Link]\n# Any results you write to the current directory are saved as output.",
      "execution_count": null,
      "outputs": []
    },
    {
      "metadata": {
        "_cell_guid": "79c7e3d0-c299-4dcb-8224-4455121ee9b0",
        "collapsed": true,
        "_uuid": "d629ff2d2480ee46fbb7e2d37f6b5fab8052498a",
        "trusted": false
      },
      "cell_type": "markdown",
      "source": "# Import the libraries\n"
    },
    {
      "metadata": {
        "trusted": true,
        "_uuid": "f4eba1700d4b192434e799cb4ec6e6f406a5c721"
      },
      "cell_type": "code",
      "source": "import pandas as pd\nimport numpy as np\nimport re\nimport matplotlib.pyplot as plt\nimport seaborn as sns; sns.set()\nfrom sklearn.model_selection import train_test_split\nfrom sklearn.preprocessing import LabelEncoder\nfrom keras.models import Model, Sequential\nfrom keras.layers import LSTM, Activation, Dense, Dropout, Input, Embedding\nfrom keras.optimizers import RMSprop, SGD\nfrom keras.preprocessing.text import Tokenizer\nfrom keras.preprocessing import sequence\nfrom keras.utils import to_categorical\nfrom keras.callbacks import EarlyStopping\nfrom sklearn.metrics import confusion_matrix, classification_report\n\n\n%matplotlib inline",
      "execution_count": 2,
      "outputs": [
        {
          "output_type": "stream",
          "text": "Using TensorFlow backend.\n",
          "name": "stderr"
        }
      ]
    },
    {
      "metadata": {
        "_uuid": "a915e9129e2428df7c13e44a6360ae26409ec708"
      },
      "cell_type": "markdown",
      "source": "# Read in data"
    },
    {
      "metadata": {
        "trusted": true,
        "_uuid": "e50e509eddb00bd5a891cf1e99fd2cba3f671330"
      },
      "cell_type": "code",
      "source": "Test_df = pd.read_csv('../input/drugLibTest_raw.csv')\nTrain_df = pd.read_csv('../input/drugLibTrain_raw.csv')\nData_df = pd.concat([Train_df, Test_df])\n\nData_df.dropna(inplace = True)\n\nData_df.info()",
      "execution_count": 3,
      "outputs": [
        {
          "output_type": "stream",
          "text": "<class 'pandas.core.frame.DataFrame'>\nInt64Index: 4132 entries, 0 to 1035\nData columns (total 9 columns):\nUnnamed: 0           4132 non-null int64\nurlDrugName          4132 non-null object\nrating               4132 non-null int64\neffectiveness        4132 non-null object\nsideEffects          4132 non-null object\ncondition            4132 non-null object\nbenefitsReview       4132 non-null object\nsideEffectsReview    4132 non-null object\ncommentsReview       4132 non-null object\ndtypes: int64(2), object(7)\nmemory usage: 322.8+ KB\n",
          "name": "stdout"
        }
      ]
    },
    {
      "metadata": {
        "_uuid": "b2a09ef53963d8523a7d9365302dcda9c713023e"
      },
      "cell_type": "markdown",
      "source": "## Rating to good/bad\n\n"
    },
    {
      "metadata": {
        "trusted": true,
        "_uuid": "06faf83772934e608a53a17178617f7a5278b47b"
      },
      "cell_type": "code",
      "source": "Data_df['Rating'] = pd.cut(Data_df['rating'], 2, labels = ['Bad', 'Good'])\n\n\nsns.boxplot(x=\"Rating\", y=\"rating\", data=Data_df)\nplt.show()",
      "execution_count": 4,
      "outputs": [
        {
          "output_type": "display_data",
          "data": {
            "text/plain": "<Figure size 432x288 with 1 Axes>",
            "image/png": "[encoded data removed]"
          },
          "metadata": {}
        }
      ]
    },
    {
      "metadata": {
        "_uuid": "bc444a0ccce09f613852fa00e4795f436ac529f4"
      },
      "cell_type": "markdown",
      "source": "## Preprocess the text data\n"
    },
    {
      "metadata": {
        "trusted": true,
        "_uuid": "0f7a57099bf57c01b9ea3991aa2e3934e5a0558d"
      },
      "cell_type": "code",
      "source": "Data_df['commentsReview'] = Data_df['commentsReview'].apply(lambda x: x.lower())\nData_df['commentsReview'] = Data_df['commentsReview'].apply((lambda x: re.sub('[^a-zA-z0-9\\s]','',x)))",
      "execution_count": 5,
      "outputs": []
    },
    {
      "metadata": {
        "_uuid": "1238d3f10b823503ce8e16eece77b990c09934fc"
      },
      "cell_type": "markdown",
      "source": "# Drop unwanted columns\n"
    },
    {
      "metadata": {
        "trusted": true,
        "_uuid": "952a9e8d75123447297efbc14a3a0e6eec021098"
      },
      "cell_type": "code",
      "source": "Data_df = Data_df[['Rating', 'commentsReview']]\n\nData_df.info()",
      "execution_count": 6,
      "outputs": [
        {
          "output_type": "stream",
          "text": "<class 'pandas.core.frame.DataFrame'>\nInt64Index: 4132 entries, 0 to 1035\nData columns (total 2 columns):\nRating            4132 non-null category\ncommentsReview    4132 non-null object\ndtypes: category(1), object(1)\nmemory usage: 228.7+ KB\n",
          "name": "stdout"
        }
      ]
    },
    {
      "metadata": {
        "trusted": true,
        "_uuid": "c7949318289a524c45e2c2f086f480973d62ca8c"
      },
      "cell_type": "code",
      "source": "#Look at distribution\nsns.countplot(x = 'Rating', data =Data_df)\n",
      "execution_count": 7,
      "outputs": [
        {
          "output_type": "execute_result",
          "execution_count": 7,
          "data": {
            "text/plain": "<matplotlib.axes._subplots.AxesSubplot at 0x7f370a6847b8>"
          },
          "metadata": {}
        },
        {
          "output_type": "display_data",
          "data": {
            "text/plain": "<Figure size 432x288 with 1 Axes>",
            "image/png": "[encoded data removed]"
          },
          "metadata": {}
        }
      ]
    },
    {
      "metadata": {
        "trusted": true,
        "_uuid": "ee751be65793e3d4a9763ae0c448b168aaff8821"
      },
      "cell_type": "code",
      "source": "print(Data_df['commentsReview'].str.split().str.len().mean())\nprint(Data_df['commentsReview'].str.split().str.len().max())",
      "execution_count": 8,
      "outputs": [
        {
          "output_type": "stream",
          "text": "50.74515972894482\n740\n",
          "name": "stdout"
        }
      ]
    },
    {
      "metadata": {
        "_uuid": "4a28033abc33dbf9d6591bb72f731411c176ac58"
      },
      "cell_type": "markdown",
      "source": "## Create vector with features and vector with encoded label\n"
    },
    {
      "metadata": {
        "trusted": true,
        "_uuid": "412929ea59cdc2ae0b5be410822dcda8ddb30c05"
      },
      "cell_type": "code",
      "source": "max_words = 2000\nmax_len = 500\n#Tokenize the data\ntok = Tokenizer(num_words=max_words, split = ' ')\ntok.fit_on_texts(Data_df['commentsReview'].values)\n#Convert to sequences\nX = tok.texts_to_sequences(Data_df['commentsReview'].values)\n#Ensure all sequences have same length\nX = sequence.pad_sequences(X)\n",
      "execution_count": 10,
      "outputs": []
    },
    {
      "metadata": {
        "_uuid": "497f010c5199dd3e01f85ab3f371d2d4e8eb10c1"
      },
      "cell_type": "markdown",
      "source": "## Set up model\n"
    },
    {
      "metadata": {
        "trusted": true,
        "_uuid": "98831dd70a33774f2b4e443c570ee6da53ce90f7"
      },
      "cell_type": "code",
      "source": "embedding_vecor_length = 128\nlstm_out = 196\n\nmodel = Sequential()\nmodel.add(Embedding(max_words,embedding_vecor_length,input_length=X.shape[1]))\nmodel.add(LSTM(50))\nmodel.add(Dense(2, activation = 'softmax'))\nmodel.compile(loss='binary_crossentropy',optimizer='adam',metrics=['accuracy'])",
      "execution_count": 31,
      "outputs": []
    },
    {
      "metadata": {
        "trusted": true,
        "_uuid": "9b3e9a26968fd6980f1aa598ea9d7ab8dd95960c"
      },
      "cell_type": "code",
      "source": "model.summary()",
      "execution_count": 32,
      "outputs": [
        {
          "output_type": "stream",
          "text": "_________________________________________________________________\nLayer (type)                 Output Shape              Param #   \n=================================================================\nembedding_3 (Embedding)      (None, 692, 128)          256000    \n_________________________________________________________________\nlstm_3 (LSTM)                (None, 50)                35800     \n_________________________________________________________________\ndense_3 (Dense)              (None, 2)                 102       \n=================================================================\nTotal params: 291,902\nTrainable params: 291,902\nNon-trainable params: 0\n_________________________________________________________________\n",
          "name": "stdout"
        }
      ]
    },
    {
      "metadata": {
        "_uuid": "905aef8abbb8289da865a5ade3799c3b2110abaa"
      },
      "cell_type": "markdown",
      "source": "## Train/test split"
    },
    {
      "metadata": {
        "trusted": true,
        "_uuid": "29cb96ef384cf5def7da18d44f01fcf8a03081e7"
      },
      "cell_type": "code",
      "source": "Y = pd.get_dummies(Data_df['Rating']).values\n\nX_train, X_test, Y_train, Y_test = train_test_split(X, Y, test_size = 0.4,  stratify=Y, random_state = 2018)\n\nX_train, X_val, Y_train, Y_val  = train_test_split(X_train, Y_train, stratify=Y_train, test_size=0.2, random_state=2018)",
      "execution_count": 13,
      "outputs": []
    },
    {
      "metadata": {
        "trusted": true,
        "_uuid": "16f2fd61c3f1957b6dcfec6d6187871c70293710"
      },
      "cell_type": "markdown",
      "source": "## Fit on dataset\n"
    },
    {
      "metadata": {
        "trusted": true,
        "_uuid": "11c44dfae8f01df300e2d10c0ef2db77438f6c72"
      },
      "cell_type": "code",
      "source": "LSTM_model = model.fit(X_train,Y_train,batch_size=32,epochs=10,\n          validation_data=(X_val, Y_val))",
      "execution_count": 33,
      "outputs": [
        {
          "output_type": "stream",
          "text": "Train on 1983 samples, validate on 496 samples\nEpoch 1/10\n1983/1983 [==============================] - 44s 22ms/step - loss: 0.5944 - acc: 0.7252 - val_loss: 0.5690 - val_acc: 0.7278\nEpoch 2/10\n1983/1983 [==============================] - 43s 22ms/step - loss: 0.4885 - acc: 0.7640 - val_loss: 0.5757 - val_acc: 0.7339\nEpoch 3/10\n1983/1983 [==============================] - 44s 22ms/step - loss: 0.3579 - acc: 0.8447 - val_loss: 0.6228 - val_acc: 0.7157\nEpoch 4/10\n1983/1983 [==============================] - 42s 21ms/step - loss: 0.2524 - acc: 0.8976 - val_loss: 0.7878 - val_acc: 0.7238\nEpoch 5/10\n1983/1983 [==============================] - 43s 22ms/step - loss: 0.1868 - acc: 0.9279 - val_loss: 0.9509 - val_acc: 0.7419\nEpoch 6/10\n1983/1983 [==============================] - 43s 22ms/step - loss: 0.1193 - acc: 0.9551 - val_loss: 1.0047 - val_acc: 0.6875\nEpoch 7/10\n1983/1983 [==============================] - 43s 22ms/step - loss: 0.0710 - acc: 0.9743 - val_loss: 1.1827 - val_acc: 0.6694\nEpoch 8/10\n1983/1983 [==============================] - 43s 21ms/step - loss: 0.0594 - acc: 0.9768 - val_loss: 1.2791 - val_acc: 0.7238\nEpoch 9/10\n1983/1983 [==============================] - 44s 22ms/step - loss: 0.0504 - acc: 0.9808 - val_loss: 1.4192 - val_acc: 0.6855\nEpoch 10/10\n1983/1983 [==============================] - 44s 22ms/step - loss: 0.0348 - acc: 0.9859 - val_loss: 1.5137 - val_acc: 0.6996\n",
          "name": "stdout"
        }
      ]
    },
    {
      "metadata": {
        "_uuid": "b643ff94ce86c942d89cafa78b8f87c19ba165a9"
      },
      "cell_type": "markdown",
      "source": "# Adjust validation data en fit to data\n"
    },
    {
      "metadata": {
        "trusted": true,
        "_uuid": "b1d219b873af5f3cc372c7de85cecfed3ef3efd5"
      },
      "cell_type": "code",
      "source": "accr = model.evaluate(X_test,Y_test, batch_size = 32)",
      "execution_count": 34,
      "outputs": [
        {
          "output_type": "stream",
          "text": "1653/1653 [==============================] - 7s 4ms/step\n",
          "name": "stdout"
        }
      ]
    },
    {
      "metadata": {
        "trusted": true,
        "_uuid": "447c201f5b4af5081b89fd389e909dddcc24b9ab"
      },
      "cell_type": "code",
      "source": "print('Test set\\n  Loss: {:0.3f}\\n  Accuracy: {:0.3f}'.format(accr[0],accr[1]))",
      "execution_count": 35,
      "outputs": [
        {
          "output_type": "stream",
          "text": "Test set\n  Loss: 1.638\n  Accuracy: 0.685\n",
          "name": "stdout"
        }
      ]
    },
    {
      "metadata": {
        "trusted": true,
        "_uuid": "e345372d49390e84f413ee79674844e4f9f27f32"
      },
      "cell_type": "code",
      "source": "#history = model.fit(X_train, Y_train, epochs=100, validation_data=(X_val, Y_val), shuffle=False)\n# plot train and validation loss\nplt.plot(LSTM_model.history['loss'])\nplt.plot(LSTM_model.history['val_loss'])\nplt.title('model train vs validation loss')\nplt.ylabel('loss')\nplt.xlabel('epoch')\nplt.legend(['train', 'validation'], loc='upper right')\nplt.show()",
      "execution_count": 36,
      "outputs": [
        {
          "output_type": "display_data",
          "data": {
            "text/plain": "<Figure size 432x288 with 1 Axes>",
            "image/png": "[encoded data removed]"
          },
          "metadata": {}
        }
      ]
    },
    {
      "metadata": {
        "trusted": true,
        "_uuid": "299755cdf02335fe53eef35f3d40ea10f671f214"
      },
      "cell_type": "code",
      "source": "pos_cnt, neg_cnt, pos_correct, neg_correct = 0, 0, 0, 0\nfor x in range(len(X_test)):\n    \n    result = model.predict(X_test[x].reshape(1,X_test.shape[1]),batch_size=1,verbose = 2)[0]\n   \n    if np.argmax(result) == np.argmax(Y_test[x]):\n        if np.argmax(Y_test[x]) == 0:\n            neg_correct += 1\n        else:\n            pos_correct += 1\n       \n    if np.argmax(Y_test[x]) == 0:\n        neg_cnt += 1\n    else:\n        pos_cnt += 1\n\n\n\nprint(\"pos_acc\", pos_correct/pos_cnt*100, \"%\")\nprint(\"neg_acc\", neg_correct/neg_cnt*100, \"%\")",
      "execution_count": 40,
      "outputs": [
        {
          "output_type": "stream",
          "text": "pos_acc 81.3953488372093 %\npos_acc 33.85300668151447 %\n",
          "name": "stdout"
        }
      ]
    },
    {
      "metadata": {
        "_uuid": "34c10470ccd820c6e48406858bec3f611adfcd12"
      },
      "cell_type": "markdown",
      "source": "# Fit on test data"
    },
    {
      "metadata": {
        "trusted": true,
        "_uuid": "ef0ee9c826a60752933a037be41227282b713d66"
      },
      "cell_type": "code",
      "source": "#test_sequences = tok.texts_to_sequences(X_test)\n#test_sequences_matrix = sequence.pad_sequences(test_sequences,maxlen=max_len)\n\nprediction = model.predict(X_test)\n",
      "execution_count": 37,
      "outputs": []
    },
    {
      "metadata": {
        "trusted": true,
        "_uuid": "46e45f768b6824feb4bab18d98b37628978e409b"
      },
      "cell_type": "code",
      "source": "\n\ntarget_names = ['Bad', 'Good']\nprint(confusion_matrix(Y_test.argmax(axis=1), prediction.argmax(axis=1)))\n\n\n",
      "execution_count": 38,
      "outputs": [
        {
          "output_type": "stream",
          "text": "[[152 297]\n [224 980]]\n",
          "name": "stdout"
        }
      ]
    },
    {
      "metadata": {
        "_uuid": "e384d59094f116ecbef4dc43b546fd4e853cd1fd"
      },
      "cell_type": "markdown",
      "source": "### To do\n* Test en train bij elkaar voegen en dan later splitsen\n* LTSM model aanpassen"
    }
  ],
  "metadata": {
    "kernelspec": {
      "display_name": "Python 3",
      "language": "python",
      "name": "python3"
    },
    "language_info": {
      "name": "python",
      "version": "3.6.6",
      "mimetype": "text/x-python",
      "codemirror_mode": {
        "name": "ipython",
        "version": 3
      },
      "pygments_lexer": "ipython3",
      "nbconvert_exporter": "python",
      "file_extension": ".py"
    }
  },
  "nbformat": 4,
  "nbformat_minor": 1
}