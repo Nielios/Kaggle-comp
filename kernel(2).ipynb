{
  "cells": [
    {
      "metadata": {
        "_uuid": "8f2839f25d086af736a60e9eeb907d3b93b6e0e5",
        "_cell_guid": "b1076dfc-b9ad-4769-8c92-a6c4dae69d19",
        "trusted": true
      },
      "cell_type": "code",
      "source": "# This Python 3 environment comes with many helpful analytics libraries installed\n# It is defined by the kaggle/python docker image: https://github.com/kaggle/docker-python\n# For example, here's several helpful packages to load in \n\nimport numpy as np # linear algebra\nimport pandas as pd # data processing, CSV file I/O (e.g. pd.read_csv)\n\n# Input data files are available in the \"../input/\" directory.\n# For example, running this (by clicking run or pressing Shift+Enter) will list the files in the input directory\n\nimport os\nprint(os.listdir(\"../input\"))\n\n#Source\n#Felix Gräßer, Surya Kallumadi, Hagen Malberg, and Sebastian Zaunseder. 2018. Aspect-Based Sentiment Analysis of Drug Reviews Applying Cross-Domain and Cross-Data Learning. In Proceedings of the 2018 International Conference on Digital Health (DH '18). ACM, New York, NY, USA, 121-125. DOI: [Web Link]\n# Any results you write to the current directory are saved as output.",
      "execution_count": 2,
      "outputs": [
        {
          "output_type": "stream",
          "text": "['drugLibTrain_raw.csv', 'drugLibTest_raw.csv']\n",
          "name": "stdout"
        }
      ]
    },
    {
      "metadata": {
        "_cell_guid": "79c7e3d0-c299-4dcb-8224-4455121ee9b0",
        "collapsed": true,
        "_uuid": "d629ff2d2480ee46fbb7e2d37f6b5fab8052498a",
        "trusted": false
      },
      "cell_type": "markdown",
      "source": "# Import the libraries\n"
    },
    {
      "metadata": {
        "trusted": true,
        "_uuid": "f4eba1700d4b192434e799cb4ec6e6f406a5c721"
      },
      "cell_type": "code",
      "source": "import pandas as pd\nimport numpy as np\nimport matplotlib.pyplot as plt\nimport seaborn as sns; sns.set()\nfrom sklearn.model_selection import train_test_split\nfrom sklearn.preprocessing import LabelEncoder\nfrom keras.models import Model, Sequential\nfrom keras.layers import LSTM, Activation, Dense, Dropout, Input, Embedding\nfrom keras.optimizers import RMSprop, SGD\nfrom keras.preprocessing.text import Tokenizer\nfrom keras.preprocessing import sequence\nfrom keras.utils import to_categorical\nfrom keras.callbacks import EarlyStopping\nfrom sklearn.metrics import confusion_matrix, classification_report\n\n\n%matplotlib inline",
      "execution_count": 54,
      "outputs": []
    },
    {
      "metadata": {
        "_uuid": "a915e9129e2428df7c13e44a6360ae26409ec708"
      },
      "cell_type": "markdown",
      "source": "# Read in data"
    },
    {
      "metadata": {
        "trusted": true,
        "_uuid": "e50e509eddb00bd5a891cf1e99fd2cba3f671330"
      },
      "cell_type": "code",
      "source": "Test_df = pd.read_csv('../input/drugLibTest_raw.csv')\nTrain_df = pd.read_csv('../input/drugLibTrain_raw.csv')\nData_df = pd.concat([Train_df, Test_df])\n\nData_df.dropna(inplace = True)\n\nData_df.info()",
      "execution_count": 4,
      "outputs": [
        {
          "output_type": "stream",
          "text": "<class 'pandas.core.frame.DataFrame'>\nInt64Index: 4132 entries, 0 to 1035\nData columns (total 9 columns):\nUnnamed: 0           4132 non-null int64\nurlDrugName          4132 non-null object\nrating               4132 non-null int64\neffectiveness        4132 non-null object\nsideEffects          4132 non-null object\ncondition            4132 non-null object\nbenefitsReview       4132 non-null object\nsideEffectsReview    4132 non-null object\ncommentsReview       4132 non-null object\ndtypes: int64(2), object(7)\nmemory usage: 322.8+ KB\n",
          "name": "stdout"
        }
      ]
    },
    {
      "metadata": {
        "_uuid": "b2a09ef53963d8523a7d9365302dcda9c713023e"
      },
      "cell_type": "markdown",
      "source": "## Rating to good/bad\n\n"
    },
    {
      "metadata": {
        "trusted": true,
        "_uuid": "06faf83772934e608a53a17178617f7a5278b47b"
      },
      "cell_type": "code",
      "source": "Data_df['Rating'] = pd.cut(Data_df['rating'], 2, labels = ['Bad', 'Good'])\n\n\nsns.swarmplot(x=\"Rating\", y=\"rating\", data=Data_df)\nplt.show()",
      "execution_count": 5,
      "outputs": [
        {
          "output_type": "display_data",
          "data": {
            "text/plain": "<Figure size 432x288 with 1 Axes>",
            "image/png": "[encoded data removed]"
          },
          "metadata": {}
        }
      ]
    },
    {
      "metadata": {
        "_uuid": "1238d3f10b823503ce8e16eece77b990c09934fc"
      },
      "cell_type": "markdown",
      "source": "# Drop unwanted columns\n"
    },
    {
      "metadata": {
        "trusted": true,
        "_uuid": "952a9e8d75123447297efbc14a3a0e6eec021098"
      },
      "cell_type": "code",
      "source": "Data_df = Data_df[['Rating', 'commentsReview']]\n\nData_df.info()",
      "execution_count": 6,
      "outputs": [
        {
          "output_type": "stream",
          "text": "<class 'pandas.core.frame.DataFrame'>\nInt64Index: 4132 entries, 0 to 1035\nData columns (total 2 columns):\nRating            4132 non-null category\ncommentsReview    4132 non-null object\ndtypes: category(1), object(1)\nmemory usage: 228.7+ KB\n",
          "name": "stdout"
        }
      ]
    },
    {
      "metadata": {
        "trusted": true,
        "_uuid": "c7949318289a524c45e2c2f086f480973d62ca8c"
      },
      "cell_type": "code",
      "source": "#Look at distribution\nsns.countplot(x = 'Rating', data =Data_df)\n",
      "execution_count": 7,
      "outputs": [
        {
          "output_type": "execute_result",
          "execution_count": 7,
          "data": {
            "text/plain": "<matplotlib.axes._subplots.AxesSubplot at 0x7f27be3b0e48>"
          },
          "metadata": {}
        },
        {
          "output_type": "display_data",
          "data": {
            "text/plain": "<Figure size 432x288 with 1 Axes>",
            "image/png": "[encoded data removed]"
          },
          "metadata": {}
        }
      ]
    },
    {
      "metadata": {
        "trusted": true,
        "_uuid": "cab77154f837ee7f415420eb62ab7a80052ae80a"
      },
      "cell_type": "code",
      "source": "print(Data_df['commentsReview'].str.split().str.len())",
      "execution_count": 45,
      "outputs": [
        {
          "output_type": "stream",
          "text": "<bound method Series.max of 0        11\n1        12\n2        76\n3        27\n4         2\n5         4\n6       107\n7         9\n8       231\n9         6\n10       37\n11       50\n12       30\n13       51\n14       28\n15       63\n16       45\n17        1\n18       90\n19       24\n20       13\n21       52\n22       25\n23       37\n24       33\n25        4\n26       21\n27       91\n28        5\n29       11\n       ... \n1006     83\n1007     71\n1008    118\n1009     40\n1010     77\n1011     63\n1012     31\n1013     56\n1014      7\n1015     72\n1016    159\n1017    140\n1018     21\n1019    101\n1020     20\n1021     37\n1022      3\n1023     70\n1024     25\n1025      9\n1026     10\n1027      8\n1028      8\n1029     20\n1030     15\n1031     39\n1032     21\n1033     43\n1034     48\n1035      7\nName: commentsReview, Length: 4132, dtype: int64>\n",
          "name": "stdout"
        }
      ]
    },
    {
      "metadata": {
        "_uuid": "4a28033abc33dbf9d6591bb72f731411c176ac58"
      },
      "cell_type": "markdown",
      "source": "## Create vector with features and vector with encoded label\n"
    },
    {
      "metadata": {
        "trusted": true,
        "_uuid": "412929ea59cdc2ae0b5be410822dcda8ddb30c05"
      },
      "cell_type": "code",
      "source": "X = Data_df.commentsReview\nY = Data_df.Rating\nle = LabelEncoder()\nY = le.fit_transform(Y)\nY = Y.reshape(-1,1)\n\nprint(X.shape)\nprint(Y.shape)\n",
      "execution_count": 46,
      "outputs": [
        {
          "output_type": "stream",
          "text": "(4132,)\n(4132, 1)\n",
          "name": "stdout"
        }
      ]
    },
    {
      "metadata": {
        "_uuid": "905aef8abbb8289da865a5ade3799c3b2110abaa"
      },
      "cell_type": "markdown",
      "source": "## Train/test split"
    },
    {
      "metadata": {
        "trusted": true,
        "_uuid": "29cb96ef384cf5def7da18d44f01fcf8a03081e7"
      },
      "cell_type": "code",
      "source": "X_train, X_test, Y_train, Y_test = train_test_split(X, Y, test_size = 0.4,  stratify=Y, random_state = 2018)\n\nX_train, X_val, Y_train, Y_val  = train_test_split(X_train, Y_train, stratify=Y_train, test_size=0.2, random_state=2018)",
      "execution_count": 47,
      "outputs": []
    },
    {
      "metadata": {
        "_uuid": "38e48103512a4ebe55cad81f2351916b5f439b9c"
      },
      "cell_type": "markdown",
      "source": "## Preprocess the text data\n"
    },
    {
      "metadata": {
        "trusted": true,
        "_uuid": "16f2fd61c3f1957b6dcfec6d6187871c70293710"
      },
      "cell_type": "code",
      "source": "max_words = 5000\nmax_len = 500\n#Tokenize the data\ntok = Tokenizer(num_words=max_words)\ntok.fit_on_texts(X_train)\n#Convert to sequences\nsequences = tok.texts_to_sequences(X_train)\n#Ensure all sequences have same length\nsequences_matrix = sequence.pad_sequences(sequences,maxlen=max_len)\n\n",
      "execution_count": 48,
      "outputs": []
    },
    {
      "metadata": {
        "_uuid": "f2b78d31805ff3d6cd5015b1bbacc954276adc68"
      },
      "cell_type": "markdown",
      "source": "## Set up model\n"
    },
    {
      "metadata": {
        "trusted": true,
        "_uuid": "c3d90667a7b754d766658c32aabf946ed64205e1"
      },
      "cell_type": "code",
      "source": "sgd = SGD(lr=0.01, decay=1e-6, momentum=0.9, nesterov=True)\nembedding_vecor_length = 32\n\nmodel = Sequential()\nmodel.add(Embedding(max_words,embedding_vecor_length,input_length=max_len))\nmodel.add(LSTM(100))\nmodel.add(Dense(256))\nmodel.add(Activation('relu'))\nmodel.add(Dropout(0.2))\nmodel.add(Dense(1, activation = 'softmax'))\nmodel.compile(loss='binary_crossentropy',optimizer=RMSprop(),metrics=['accuracy'])\n\n\n",
      "execution_count": 60,
      "outputs": []
    },
    {
      "metadata": {
        "trusted": true,
        "_uuid": "0cedcb94f378155bfd530b3a8a868d21887a850f"
      },
      "cell_type": "code",
      "source": "model.summary()\n\n\n",
      "execution_count": 50,
      "outputs": [
        {
          "output_type": "stream",
          "text": "_________________________________________________________________\nLayer (type)                 Output Shape              Param #   \n=================================================================\nembedding_5 (Embedding)      (None, 500, 32)           160000    \n_________________________________________________________________\nlstm_4 (LSTM)                (None, 100)               53200     \n_________________________________________________________________\ndense_7 (Dense)              (None, 256)               25856     \n_________________________________________________________________\nactivation_4 (Activation)    (None, 256)               0         \n_________________________________________________________________\ndropout_4 (Dropout)          (None, 256)               0         \n_________________________________________________________________\ndense_8 (Dense)              (None, 1)                 257       \n=================================================================\nTotal params: 239,313\nTrainable params: 239,313\nNon-trainable params: 0\n_________________________________________________________________\n",
          "name": "stdout"
        }
      ]
    },
    {
      "metadata": {
        "_uuid": "34a5c3c00a42bf081097db0d679508c6feea032c"
      },
      "cell_type": "markdown",
      "source": "## Fit on dataset"
    },
    {
      "metadata": {
        "trusted": true,
        "_uuid": "e114088ff38822d605c611abd4e82df7767e216e"
      },
      "cell_type": "code",
      "source": "model.fit(sequences_matrix,Y_train,batch_size=128,epochs=3,\n          validation_split=0.2)",
      "execution_count": null,
      "outputs": []
    },
    {
      "metadata": {
        "_uuid": "b643ff94ce86c942d89cafa78b8f87c19ba165a9"
      },
      "cell_type": "markdown",
      "source": "# Adjust validation data en fit to data\n"
    },
    {
      "metadata": {
        "trusted": true,
        "_uuid": "b1d219b873af5f3cc372c7de85cecfed3ef3efd5"
      },
      "cell_type": "code",
      "source": "val_sequences = tok.texts_to_sequences(X_val)\nval_sequences_matrix = sequence.pad_sequences(val_sequences,maxlen=max_len)\n\n\naccr = model.evaluate(val_sequences_matrix,Y_val)",
      "execution_count": 58,
      "outputs": [
        {
          "output_type": "stream",
          "text": "496/496 [==============================] - 1s 3ms/step\n",
          "name": "stdout"
        }
      ]
    },
    {
      "metadata": {
        "trusted": true,
        "_uuid": "447c201f5b4af5081b89fd389e909dddcc24b9ab"
      },
      "cell_type": "code",
      "source": "print('Test set\\n  Loss: {:0.3f}\\n  Accuracy: {:0.3f}'.format(accr[0],accr[1]))",
      "execution_count": 59,
      "outputs": [
        {
          "output_type": "stream",
          "text": "Test set\n  Loss: 4.339\n  Accuracy: 0.728\n",
          "name": "stdout"
        }
      ]
    },
    {
      "metadata": {
        "_uuid": "34c10470ccd820c6e48406858bec3f611adfcd12"
      },
      "cell_type": "markdown",
      "source": "# Fit on test data"
    },
    {
      "metadata": {
        "trusted": true,
        "_uuid": "ef0ee9c826a60752933a037be41227282b713d66"
      },
      "cell_type": "code",
      "source": "test_sequences = tok.texts_to_sequences(X_test)\ntest_sequences_matrix = sequence.pad_sequences(test_sequences,maxlen=max_len)\n\nprediction = model.predict(test_sequences_matrix)\n",
      "execution_count": 39,
      "outputs": []
    },
    {
      "metadata": {
        "trusted": true,
        "_uuid": "46e45f768b6824feb4bab18d98b37628978e409b"
      },
      "cell_type": "code",
      "source": "\n\ntarget_names = ['Bad', 'Good']\nprint(confusion_matrix(Y_test, prediction))\n\n\n",
      "execution_count": 42,
      "outputs": [
        {
          "output_type": "stream",
          "text": "[[ 449    0]\n [1204    0]]\n",
          "name": "stdout"
        }
      ]
    },
    {
      "metadata": {
        "_uuid": "e384d59094f116ecbef4dc43b546fd4e853cd1fd"
      },
      "cell_type": "markdown",
      "source": "### To do\n* Test en train bij elkaar voegen en dan later splitsen\n* LTSM model aanpassen"
    }
  ],
  "metadata": {
    "kernelspec": {
      "display_name": "Python 3",
      "language": "python",
      "name": "python3"
    },
    "language_info": {
      "name": "python",
      "version": "3.6.6",
      "mimetype": "text/x-python",
      "codemirror_mode": {
        "name": "ipython",
        "version": 3
      },
      "pygments_lexer": "ipython3",
      "nbconvert_exporter": "python",
      "file_extension": ".py"
    }
  },
  "nbformat": 4,
  "nbformat_minor": 1
}